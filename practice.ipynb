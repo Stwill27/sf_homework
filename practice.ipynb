{
 "cells": [
  {
   "cell_type": "code",
   "execution_count": 2,
   "metadata": {},
   "outputs": [],
   "source": [
    "#импорт библиотек\n",
    "import numpy as np #для матричных вычислений\n",
    "import pandas as pd #для анализа и предобработки данных\n",
    "import matplotlib.pyplot as plt #для визуализации\n",
    "import seaborn as sns #для визуализации\n",
    "\n",
    "from sklearn import linear_model #линейные моделиё\n",
    "from sklearn import tree #деревья решений\n",
    "from sklearn import ensemble #ансамбли\n",
    "from sklearn import metrics #метрики\n",
    "from sklearn import preprocessing #предобработка\n",
    "from sklearn.model_selection import train_test_split #сплитование выборки\n",
    "\n",
    "%matplotlib inline\n",
    "plt.style.use('seaborn')"
   ]
  },
  {
   "cell_type": "code",
   "execution_count": 3,
   "metadata": {},
   "outputs": [
    {
     "name": "stdout",
     "output_type": "stream",
     "text": [
      "Версия Hyperopt : 0.2.7\n"
     ]
    }
   ],
   "source": [
    "#делаем импорт и выведем версию библиотеки\n",
    "from sklearn.model_selection import cross_val_score\n",
    "import hyperopt\n",
    "from hyperopt import hp, fmin, tpe, Trials\n",
    "# fmin - основная функция, она будет минимизировать наш функционал\n",
    "# tpe - алгоритм оптимизации\n",
    "# hp - включает набор методов для объявления пространства поиска гиперпараметров\n",
    "# trails - используется для логирования результатов\n",
    "\n",
    "print(\"Версия Hyperopt : {}\".format(hyperopt.__version__))"
   ]
  },
  {
   "cell_type": "code",
   "execution_count": 81,
   "metadata": {},
   "outputs": [
    {
     "name": "stdout",
     "output_type": "stream",
     "text": [
      "Версия Optuna: 3.1.1\n"
     ]
    }
   ],
   "source": [
    "import optuna\n",
    "\n",
    "print(\"Версия Optuna: {}\".format(optuna.__version__))"
   ]
  },
  {
   "cell_type": "code",
   "execution_count": 4,
   "metadata": {},
   "outputs": [
    {
     "data": {
      "text/html": [
       "<div>\n",
       "<style scoped>\n",
       "    .dataframe tbody tr th:only-of-type {\n",
       "        vertical-align: middle;\n",
       "    }\n",
       "\n",
       "    .dataframe tbody tr th {\n",
       "        vertical-align: top;\n",
       "    }\n",
       "\n",
       "    .dataframe thead th {\n",
       "        text-align: right;\n",
       "    }\n",
       "</style>\n",
       "<table border=\"1\" class=\"dataframe\">\n",
       "  <thead>\n",
       "    <tr style=\"text-align: right;\">\n",
       "      <th></th>\n",
       "      <th>Activity</th>\n",
       "      <th>D1</th>\n",
       "      <th>D2</th>\n",
       "      <th>D3</th>\n",
       "      <th>D4</th>\n",
       "      <th>D5</th>\n",
       "      <th>D6</th>\n",
       "      <th>D7</th>\n",
       "      <th>D8</th>\n",
       "      <th>D9</th>\n",
       "      <th>...</th>\n",
       "      <th>D1767</th>\n",
       "      <th>D1768</th>\n",
       "      <th>D1769</th>\n",
       "      <th>D1770</th>\n",
       "      <th>D1771</th>\n",
       "      <th>D1772</th>\n",
       "      <th>D1773</th>\n",
       "      <th>D1774</th>\n",
       "      <th>D1775</th>\n",
       "      <th>D1776</th>\n",
       "    </tr>\n",
       "  </thead>\n",
       "  <tbody>\n",
       "    <tr>\n",
       "      <th>0</th>\n",
       "      <td>1</td>\n",
       "      <td>0.000000</td>\n",
       "      <td>0.497009</td>\n",
       "      <td>0.10</td>\n",
       "      <td>0.0</td>\n",
       "      <td>0.132956</td>\n",
       "      <td>0.678031</td>\n",
       "      <td>0.273166</td>\n",
       "      <td>0.585445</td>\n",
       "      <td>0.743663</td>\n",
       "      <td>...</td>\n",
       "      <td>0</td>\n",
       "      <td>0</td>\n",
       "      <td>0</td>\n",
       "      <td>0</td>\n",
       "      <td>0</td>\n",
       "      <td>0</td>\n",
       "      <td>0</td>\n",
       "      <td>0</td>\n",
       "      <td>0</td>\n",
       "      <td>0</td>\n",
       "    </tr>\n",
       "    <tr>\n",
       "      <th>1</th>\n",
       "      <td>1</td>\n",
       "      <td>0.366667</td>\n",
       "      <td>0.606291</td>\n",
       "      <td>0.05</td>\n",
       "      <td>0.0</td>\n",
       "      <td>0.111209</td>\n",
       "      <td>0.803455</td>\n",
       "      <td>0.106105</td>\n",
       "      <td>0.411754</td>\n",
       "      <td>0.836582</td>\n",
       "      <td>...</td>\n",
       "      <td>1</td>\n",
       "      <td>1</td>\n",
       "      <td>1</td>\n",
       "      <td>1</td>\n",
       "      <td>0</td>\n",
       "      <td>1</td>\n",
       "      <td>0</td>\n",
       "      <td>0</td>\n",
       "      <td>1</td>\n",
       "      <td>0</td>\n",
       "    </tr>\n",
       "    <tr>\n",
       "      <th>2</th>\n",
       "      <td>1</td>\n",
       "      <td>0.033300</td>\n",
       "      <td>0.480124</td>\n",
       "      <td>0.00</td>\n",
       "      <td>0.0</td>\n",
       "      <td>0.209791</td>\n",
       "      <td>0.610350</td>\n",
       "      <td>0.356453</td>\n",
       "      <td>0.517720</td>\n",
       "      <td>0.679051</td>\n",
       "      <td>...</td>\n",
       "      <td>0</td>\n",
       "      <td>0</td>\n",
       "      <td>0</td>\n",
       "      <td>0</td>\n",
       "      <td>0</td>\n",
       "      <td>0</td>\n",
       "      <td>0</td>\n",
       "      <td>0</td>\n",
       "      <td>0</td>\n",
       "      <td>0</td>\n",
       "    </tr>\n",
       "    <tr>\n",
       "      <th>3</th>\n",
       "      <td>1</td>\n",
       "      <td>0.000000</td>\n",
       "      <td>0.538825</td>\n",
       "      <td>0.00</td>\n",
       "      <td>0.5</td>\n",
       "      <td>0.196344</td>\n",
       "      <td>0.724230</td>\n",
       "      <td>0.235606</td>\n",
       "      <td>0.288764</td>\n",
       "      <td>0.805110</td>\n",
       "      <td>...</td>\n",
       "      <td>0</td>\n",
       "      <td>0</td>\n",
       "      <td>0</td>\n",
       "      <td>0</td>\n",
       "      <td>0</td>\n",
       "      <td>0</td>\n",
       "      <td>0</td>\n",
       "      <td>0</td>\n",
       "      <td>0</td>\n",
       "      <td>0</td>\n",
       "    </tr>\n",
       "    <tr>\n",
       "      <th>4</th>\n",
       "      <td>0</td>\n",
       "      <td>0.100000</td>\n",
       "      <td>0.517794</td>\n",
       "      <td>0.00</td>\n",
       "      <td>0.0</td>\n",
       "      <td>0.494734</td>\n",
       "      <td>0.781422</td>\n",
       "      <td>0.154361</td>\n",
       "      <td>0.303809</td>\n",
       "      <td>0.812646</td>\n",
       "      <td>...</td>\n",
       "      <td>0</td>\n",
       "      <td>0</td>\n",
       "      <td>0</td>\n",
       "      <td>0</td>\n",
       "      <td>0</td>\n",
       "      <td>0</td>\n",
       "      <td>0</td>\n",
       "      <td>0</td>\n",
       "      <td>0</td>\n",
       "      <td>0</td>\n",
       "    </tr>\n",
       "  </tbody>\n",
       "</table>\n",
       "<p>5 rows × 1777 columns</p>\n",
       "</div>"
      ],
      "text/plain": [
       "   Activity        D1        D2    D3   D4        D5        D6        D7  \\\n",
       "0         1  0.000000  0.497009  0.10  0.0  0.132956  0.678031  0.273166   \n",
       "1         1  0.366667  0.606291  0.05  0.0  0.111209  0.803455  0.106105   \n",
       "2         1  0.033300  0.480124  0.00  0.0  0.209791  0.610350  0.356453   \n",
       "3         1  0.000000  0.538825  0.00  0.5  0.196344  0.724230  0.235606   \n",
       "4         0  0.100000  0.517794  0.00  0.0  0.494734  0.781422  0.154361   \n",
       "\n",
       "         D8        D9  ...  D1767  D1768  D1769  D1770  D1771  D1772  D1773  \\\n",
       "0  0.585445  0.743663  ...      0      0      0      0      0      0      0   \n",
       "1  0.411754  0.836582  ...      1      1      1      1      0      1      0   \n",
       "2  0.517720  0.679051  ...      0      0      0      0      0      0      0   \n",
       "3  0.288764  0.805110  ...      0      0      0      0      0      0      0   \n",
       "4  0.303809  0.812646  ...      0      0      0      0      0      0      0   \n",
       "\n",
       "   D1774  D1775  D1776  \n",
       "0      0      0      0  \n",
       "1      0      1      0  \n",
       "2      0      0      0  \n",
       "3      0      0      0  \n",
       "4      0      0      0  \n",
       "\n",
       "[5 rows x 1777 columns]"
      ]
     },
     "execution_count": 4,
     "metadata": {},
     "output_type": "execute_result"
    }
   ],
   "source": [
    "data = pd.read_csv('data/_train_sem09 (1).csv')\n",
    "data.head()"
   ]
  },
  {
   "cell_type": "code",
   "execution_count": 14,
   "metadata": {},
   "outputs": [],
   "source": [
    "X = data.drop('Activity', axis=1)\n",
    "y = data.Activity\n",
    "X_train, X_test, y_train, y_test = train_test_split(X,y, test_size=0.2, random_state=42, stratify=y)"
   ]
  },
  {
   "attachments": {},
   "cell_type": "markdown",
   "metadata": {},
   "source": [
    "# Линейная модель"
   ]
  },
  {
   "cell_type": "code",
   "execution_count": 36,
   "metadata": {},
   "outputs": [
    {
     "name": "stdout",
     "output_type": "stream",
     "text": [
      "метрика f1 на тестовом наборе: 0.7773766546329723\n"
     ]
    }
   ],
   "source": [
    "regression = linear_model.LogisticRegression(max_iter=1000, random_state=42)\n",
    "regression.fit(X_train, y_train)\n",
    "y_test_pred = regression.predict(X_test)\n",
    "print('метрика f1 на тестовом наборе: {}'.format(metrics.f1_score(y_test, y_test_pred)))"
   ]
  },
  {
   "attachments": {},
   "cell_type": "markdown",
   "metadata": {},
   "source": [
    "### GridSearcvCV"
   ]
  },
  {
   "cell_type": "code",
   "execution_count": 37,
   "metadata": {},
   "outputs": [],
   "source": [
    "param_grid = {'penalty': ['l2', 'none'] ,#тип регурялизации\n",
    "              'solver': ['lbfgs', 'saga'], #алгоритм оптимизации\n",
    "              }"
   ]
  },
  {
   "cell_type": "code",
   "execution_count": 19,
   "metadata": {},
   "outputs": [
    {
     "name": "stdout",
     "output_type": "stream",
     "text": [
      "f1_score на тестовом наборе: 0.7773766546329723\n",
      "Наилучшие значения гиперпараметров: {'penalty': 'l2', 'solver': 'lbfgs'}\n"
     ]
    }
   ],
   "source": [
    "from sklearn.model_selection import GridSearchCV\n",
    "grid_search = GridSearchCV(\n",
    "    estimator=regression, \n",
    "    param_grid=param_grid, \n",
    "    cv=5, \n",
    "    n_jobs = -1\n",
    ")  \n",
    "grid_search.fit(X_train, y_train) \n",
    "y_test_pred = grid_search.predict(X_test)\n",
    "print('f1_score на тестовом наборе: {}'.format(metrics.f1_score(y_test, y_test_pred)))\n",
    "print(\"Наилучшие значения гиперпараметров: {}\".format(grid_search.best_params_))"
   ]
  },
  {
   "attachments": {},
   "cell_type": "markdown",
   "metadata": {},
   "source": [
    "### RandomizedSearchCV"
   ]
  },
  {
   "cell_type": "code",
   "execution_count": 24,
   "metadata": {},
   "outputs": [
    {
     "name": "stderr",
     "output_type": "stream",
     "text": [
      "c:\\Users\\User\\AppData\\Local\\Programs\\Python\\Python39\\lib\\site-packages\\sklearn\\model_selection\\_search.py:306: UserWarning: The total space of parameters 4 is smaller than n_iter=10. Running 4 iterations. For exhaustive searches, use GridSearchCV.\n",
      "  warnings.warn(\n"
     ]
    },
    {
     "name": "stdout",
     "output_type": "stream",
     "text": [
      "f1_score на тестовом наборе: 0.7773766546329723\n",
      "Наилучшие значения гиперпараметров: {'solver': 'lbfgs', 'penalty': 'l2'}\n"
     ]
    }
   ],
   "source": [
    "from sklearn.model_selection import RandomizedSearchCV\n",
    "random_search = RandomizedSearchCV(\n",
    "    estimator=regression,\n",
    "    param_distributions=param_grid,\n",
    "    cv=5,\n",
    "    n_iter=10,\n",
    "    n_jobs=-1\n",
    ")\n",
    "random_search.fit(X_train,y_train)\n",
    "y_test_pred = random_search.predict(X_test)\n",
    "print('f1_score на тестовом наборе: {}'.format(metrics.f1_score(y_test, y_test_pred)))\n",
    "print(\"Наилучшие значения гиперпараметров: {}\".format(random_search.best_params_))"
   ]
  },
  {
   "attachments": {},
   "cell_type": "markdown",
   "metadata": {},
   "source": [
    "### HyperOpt"
   ]
  },
  {
   "cell_type": "code",
   "execution_count": 77,
   "metadata": {},
   "outputs": [],
   "source": [
    "param_grid = {'penalty':hp.choice(label='penalty', options=['l2', 'none']) ,#тип регурялизации\n",
    "              'solver':hp.choice(label='solver', options=['lbfgs', 'saga']), #алгоритм оптимизации\n",
    "              }"
   ]
  },
  {
   "cell_type": "code",
   "execution_count": 79,
   "metadata": {},
   "outputs": [],
   "source": [
    "# зафксируем random_state\n",
    "random_state = 42\n",
    "def hyperopt_rf(params, cv=5, X=X_train, y=y_train, random_state=random_state):\n",
    "    # функция получает комбинацию гиперпараметров в \"params\"\n",
    "    params = {\n",
    "        'penalty': params['penalty'],\n",
    "        'solver': params['solver']\n",
    "    }\n",
    "  \n",
    "    # используем эту комбинацию для построения модели\n",
    "    model = linear_model.LogisticRegression(**params, random_state=random_state)\n",
    "\n",
    "    # обучаем модель\n",
    "    #model.fit(X, y)\n",
    "    #score = metrics.f1_score(y, model.predict(X))\n",
    "    \n",
    "    # обучать модель можно также с помощью кросс-валидации\n",
    "    # применим  cross validation с тем же количеством фолдов\n",
    "    score = cross_val_score(model, X, y, cv=cv, scoring=\"f1\", n_jobs=-1).mean()\n",
    "\n",
    "    # метрику необходимо минимизировать, поэтому ставим знак минус\n",
    "    return -score"
   ]
  },
  {
   "cell_type": "code",
   "execution_count": 80,
   "metadata": {},
   "outputs": [
    {
     "name": "stdout",
     "output_type": "stream",
     "text": [
      "100%|██████████| 20/20 [01:39<00:00,  4.96s/trial, best loss: -0.7793179449996321]\n",
      "Наилучшие значения гиперпараметров {'penalty': 0, 'solver': 1}\n"
     ]
    }
   ],
   "source": [
    "# начинаем подбор гиперпараметров\n",
    "\n",
    "trials = Trials() # используется для логирования результатов\n",
    "\n",
    "best=fmin(hyperopt_rf, # наша функция \n",
    "          space=param_grid, # пространство гиперпараметров\n",
    "          algo=tpe.suggest, # алгоритм оптимизации, установлен по умолчанию, задавать необязательно\n",
    "          max_evals=20, # максимальное количество итераций\n",
    "          trials=trials, # логирование результатов\n",
    "          rstate=np.random.default_rng(random_state)# фиксируем для повторяемости результата\n",
    "         )\n",
    "print(\"Наилучшие значения гиперпараметров {}\".format(best))"
   ]
  },
  {
   "attachments": {},
   "cell_type": "markdown",
   "metadata": {},
   "source": [
    "### Optuna"
   ]
  },
  {
   "cell_type": "code",
   "execution_count": 89,
   "metadata": {},
   "outputs": [],
   "source": [
    "def optuna_rf(trial):\n",
    "  # задаем пространства поиска гиперпараметров\n",
    "  penalty = trial.suggest_categorical('penalty', choices=['l2', 'none'])\n",
    "  solver = trial.suggest_categorical('solver', choices=['lbfgs', 'saga'])\n",
    "\n",
    "  # создаем модель\n",
    "  model = linear_model.LogisticRegression(penalty=penalty,\n",
    "                                          solver=solver,\n",
    "                                          random_state=random_state)\n",
    "  # обучаем модель\n",
    "  #model.fit(X_train, y_train)\n",
    "  #score = metrics.f1_score(y_train, model.predict(X_train))\n",
    "\n",
    "  # Без кросс-валидации модель переобучается\n",
    "  score = cross_val_score(model, X_train, y_train, cv=5, scoring=\"f1\", n_jobs=-1).mean()\n",
    "  return score"
   ]
  },
  {
   "cell_type": "code",
   "execution_count": 90,
   "metadata": {},
   "outputs": [
    {
     "name": "stderr",
     "output_type": "stream",
     "text": [
      "\u001b[32m[I 2023-04-17 12:58:07,814]\u001b[0m A new study created in memory with name: LogisticRegression\u001b[0m\n",
      "\u001b[32m[I 2023-04-17 12:58:16,976]\u001b[0m Trial 0 finished with value: 0.7784186232901155 and parameters: {'penalty': 'none', 'solver': 'saga'}. Best is trial 0 with value: 0.7784186232901155.\u001b[0m\n",
      "\u001b[32m[I 2023-04-17 12:58:24,651]\u001b[0m Trial 1 finished with value: 0.7784186232901155 and parameters: {'penalty': 'none', 'solver': 'saga'}. Best is trial 0 with value: 0.7784186232901155.\u001b[0m\n",
      "\u001b[32m[I 2023-04-17 12:58:26,526]\u001b[0m Trial 2 finished with value: 0.7507880100918504 and parameters: {'penalty': 'none', 'solver': 'lbfgs'}. Best is trial 0 with value: 0.7784186232901155.\u001b[0m\n",
      "\u001b[32m[I 2023-04-17 12:58:28,502]\u001b[0m Trial 3 finished with value: 0.7507880100918504 and parameters: {'penalty': 'none', 'solver': 'lbfgs'}. Best is trial 0 with value: 0.7784186232901155.\u001b[0m\n",
      "\u001b[32m[I 2023-04-17 12:58:36,241]\u001b[0m Trial 4 finished with value: 0.7793179449996321 and parameters: {'penalty': 'l2', 'solver': 'saga'}. Best is trial 4 with value: 0.7793179449996321.\u001b[0m\n",
      "\u001b[32m[I 2023-04-17 12:58:43,992]\u001b[0m Trial 5 finished with value: 0.7784186232901155 and parameters: {'penalty': 'none', 'solver': 'saga'}. Best is trial 4 with value: 0.7793179449996321.\u001b[0m\n",
      "\u001b[32m[I 2023-04-17 12:58:51,785]\u001b[0m Trial 6 finished with value: 0.7784186232901155 and parameters: {'penalty': 'none', 'solver': 'saga'}. Best is trial 4 with value: 0.7793179449996321.\u001b[0m\n",
      "\u001b[32m[I 2023-04-17 12:58:53,535]\u001b[0m Trial 7 finished with value: 0.7507880100918504 and parameters: {'penalty': 'none', 'solver': 'lbfgs'}. Best is trial 4 with value: 0.7793179449996321.\u001b[0m\n",
      "\u001b[32m[I 2023-04-17 12:59:01,177]\u001b[0m Trial 8 finished with value: 0.7784186232901155 and parameters: {'penalty': 'none', 'solver': 'saga'}. Best is trial 4 with value: 0.7793179449996321.\u001b[0m\n",
      "\u001b[32m[I 2023-04-17 12:59:09,412]\u001b[0m Trial 9 finished with value: 0.7793179449996321 and parameters: {'penalty': 'l2', 'solver': 'saga'}. Best is trial 4 with value: 0.7793179449996321.\u001b[0m\n",
      "\u001b[32m[I 2023-04-17 12:59:11,343]\u001b[0m Trial 10 finished with value: 0.7726249337736326 and parameters: {'penalty': 'l2', 'solver': 'lbfgs'}. Best is trial 4 with value: 0.7793179449996321.\u001b[0m\n",
      "\u001b[32m[I 2023-04-17 12:59:18,582]\u001b[0m Trial 11 finished with value: 0.7793179449996321 and parameters: {'penalty': 'l2', 'solver': 'saga'}. Best is trial 4 with value: 0.7793179449996321.\u001b[0m\n",
      "\u001b[32m[I 2023-04-17 12:59:26,758]\u001b[0m Trial 12 finished with value: 0.7793179449996321 and parameters: {'penalty': 'l2', 'solver': 'saga'}. Best is trial 4 with value: 0.7793179449996321.\u001b[0m\n",
      "\u001b[32m[I 2023-04-17 12:59:34,952]\u001b[0m Trial 13 finished with value: 0.7793179449996321 and parameters: {'penalty': 'l2', 'solver': 'saga'}. Best is trial 4 with value: 0.7793179449996321.\u001b[0m\n",
      "\u001b[32m[I 2023-04-17 12:59:43,364]\u001b[0m Trial 14 finished with value: 0.7793179449996321 and parameters: {'penalty': 'l2', 'solver': 'saga'}. Best is trial 4 with value: 0.7793179449996321.\u001b[0m\n",
      "\u001b[32m[I 2023-04-17 12:59:52,147]\u001b[0m Trial 15 finished with value: 0.7793179449996321 and parameters: {'penalty': 'l2', 'solver': 'saga'}. Best is trial 4 with value: 0.7793179449996321.\u001b[0m\n",
      "\u001b[32m[I 2023-04-17 13:00:00,734]\u001b[0m Trial 16 finished with value: 0.7793179449996321 and parameters: {'penalty': 'l2', 'solver': 'saga'}. Best is trial 4 with value: 0.7793179449996321.\u001b[0m\n",
      "\u001b[32m[I 2023-04-17 13:00:09,897]\u001b[0m Trial 17 finished with value: 0.7793179449996321 and parameters: {'penalty': 'l2', 'solver': 'saga'}. Best is trial 4 with value: 0.7793179449996321.\u001b[0m\n",
      "\u001b[32m[I 2023-04-17 13:00:11,924]\u001b[0m Trial 18 finished with value: 0.7726249337736326 and parameters: {'penalty': 'l2', 'solver': 'lbfgs'}. Best is trial 4 with value: 0.7793179449996321.\u001b[0m\n",
      "\u001b[32m[I 2023-04-17 13:00:20,605]\u001b[0m Trial 19 finished with value: 0.7793179449996321 and parameters: {'penalty': 'l2', 'solver': 'saga'}. Best is trial 4 with value: 0.7793179449996321.\u001b[0m\n"
     ]
    }
   ],
   "source": [
    "# cоздаем объект исследования\n",
    "# можем напрямую указать, что нам необходимо максимизировать метрику direction=\"maximize\"\n",
    "study = optuna.create_study(study_name=\"LogisticRegression\", direction=\"maximize\")\n",
    "# ищем лучшую комбинацию гиперпараметров n_trials раз\n",
    "study.optimize(optuna_rf, n_trials=20)"
   ]
  },
  {
   "cell_type": "code",
   "execution_count": 91,
   "metadata": {},
   "outputs": [
    {
     "name": "stdout",
     "output_type": "stream",
     "text": [
      "Наилучшие значения гиперпараметров {'penalty': 'l2', 'solver': 'saga'}\n",
      "f1_score на обучающем наборе: 0.7793179449996321\n",
      "f1_score на тестовом наборе: 0.7753623188405797\n"
     ]
    },
    {
     "name": "stderr",
     "output_type": "stream",
     "text": [
      "c:\\Users\\User\\AppData\\Local\\Programs\\Python\\Python39\\lib\\site-packages\\sklearn\\linear_model\\_sag.py:350: ConvergenceWarning: The max_iter was reached which means the coef_ did not converge\n",
      "  warnings.warn(\n"
     ]
    }
   ],
   "source": [
    "# выводим результаты на обучающей выборке\n",
    "print(\"Наилучшие значения гиперпараметров {}\".format(study.best_params))\n",
    "print(\"f1_score на обучающем наборе: {}\".format(study.best_value))\n",
    "# рассчитаем точность для тестовой выборки\n",
    "model = linear_model.LogisticRegression(random_state=random_state, \n",
    "                                        penalty=study.best_params['penalty'],\n",
    "                                        solver=study.best_params['solver'])\n",
    "model.fit(X_train, y_train)\n",
    "y_test_pred = model.predict(X_test)\n",
    "print('f1_score на тестовом наборе: {}'.format(metrics.f1_score(y_test, y_test_pred)))"
   ]
  },
  {
   "attachments": {},
   "cell_type": "markdown",
   "metadata": {},
   "source": [
    "# Случайный лес"
   ]
  },
  {
   "cell_type": "code",
   "execution_count": 15,
   "metadata": {},
   "outputs": [
    {
     "name": "stdout",
     "output_type": "stream",
     "text": [
      "метрика f1 на тестовом наборе: 0.8048484848484848\n",
      "accuracy на тестовом наборе: 0.7856191744340879\n"
     ]
    }
   ],
   "source": [
    "forest = ensemble.RandomForestClassifier(random_state=42)\n",
    "forest.fit(X_train, y_train)\n",
    "y_test_pred = forest.predict(X_test)\n",
    "print('метрика f1 на тестовом наборе: {}'.format(metrics.f1_score(y_test,y_test_pred)))\n",
    "print('accuracy на тестовом наборе: {}'.format(metrics.accuracy_score(y_test, y_test_pred)))"
   ]
  },
  {
   "attachments": {},
   "cell_type": "markdown",
   "metadata": {},
   "source": [
    "### GridSearchCV"
   ]
  },
  {
   "cell_type": "code",
   "execution_count": 16,
   "metadata": {},
   "outputs": [],
   "source": [
    "param_grid = {'n_estimators': list(range(80, 150, 10)),\n",
    "              'min_samples_leaf': [1,2,3,4,5]}"
   ]
  },
  {
   "cell_type": "code",
   "execution_count": 17,
   "metadata": {},
   "outputs": [
    {
     "name": "stdout",
     "output_type": "stream",
     "text": [
      "f1_score на тестовом наборе: 0.8014616321559075\n",
      "accuracy на тестовом наборе: 0.7829560585885486\n",
      "Наилучшие значения гиперпараметров: {'min_samples_leaf': 2, 'n_estimators': 100}\n"
     ]
    }
   ],
   "source": [
    "from sklearn.model_selection import GridSearchCV\n",
    "grid_search = GridSearchCV(\n",
    "    estimator=forest, \n",
    "    param_grid=param_grid, \n",
    "    cv=5, \n",
    "    n_jobs = -1\n",
    ")  \n",
    "grid_search.fit(X_train, y_train) \n",
    "y_test_pred = grid_search.predict(X_test)\n",
    "print('f1_score на тестовом наборе: {}'.format(metrics.f1_score(y_test, y_test_pred)))\n",
    "print('accuracy на тестовом наборе: {}'.format(metrics.accuracy_score(y_test, y_test_pred)))\n",
    "print(\"Наилучшие значения гиперпараметров: {}\".format(grid_search.best_params_))"
   ]
  },
  {
   "attachments": {},
   "cell_type": "markdown",
   "metadata": {},
   "source": [
    "### RandomizedSearchCV"
   ]
  },
  {
   "cell_type": "code",
   "execution_count": 18,
   "metadata": {},
   "outputs": [
    {
     "name": "stdout",
     "output_type": "stream",
     "text": [
      "f1_score на тестовом наборе: 0.8009708737864076\n",
      "Наилучшие значения гиперпараметров: {'n_estimators': 120, 'min_samples_leaf': 2}\n"
     ]
    }
   ],
   "source": [
    "from sklearn.model_selection import RandomizedSearchCV\n",
    "random_search = RandomizedSearchCV(\n",
    "    estimator=forest,\n",
    "    param_distributions=param_grid,\n",
    "    cv=5,\n",
    "    n_iter=10,\n",
    "    n_jobs=-1\n",
    ")\n",
    "random_search.fit(X_train,y_train)\n",
    "y_test_pred = random_search.predict(X_test)\n",
    "print('f1_score на тестовом наборе: {}'.format(metrics.f1_score(y_test, y_test_pred)))\n",
    "print(\"Наилучшие значения гиперпараметров: {}\".format(random_search.best_params_))"
   ]
  },
  {
   "attachments": {},
   "cell_type": "markdown",
   "metadata": {},
   "source": [
    "### HyperOpt"
   ]
  },
  {
   "cell_type": "code",
   "execution_count": 29,
   "metadata": {},
   "outputs": [],
   "source": [
    "# зададим пространство поиска гиперпараметров\n",
    "space={'n_estimators': hp.quniform('n_estimators', 90, 180, 10),\n",
    "        'max_depth' : hp.quniform('max_depth', 15, 40, 1),\n",
    "       'min_samples_leaf': hp.quniform('min_samples_leaf', 1, 5, 1)\n",
    "      }"
   ]
  },
  {
   "cell_type": "code",
   "execution_count": 45,
   "metadata": {},
   "outputs": [],
   "source": [
    "# зафксируем random_state\n",
    "random_state = 42\n",
    "def hyperopt_rf(params, cv=5, X=X_train, y=y_train, random_state=random_state):\n",
    "    # функция получает комбинацию гиперпараметров в \"params\"\n",
    "    params = {'n_estimators': int(params['n_estimators']), \n",
    "               'max_depth' : int(params['max_depth']),\n",
    "             'min_samples_leaf': int(params['min_samples_leaf'])\n",
    "              }\n",
    "  \n",
    "    # используем эту комбинацию для построения модели\n",
    "    model = ensemble.RandomForestClassifier(**params, random_state=random_state)\n",
    "\n",
    "    # обучаем модель\n",
    "    #model.fit(X, y)\n",
    "    #score = metrics.f1_score(y, model.predict(X))\n",
    "    \n",
    "    \n",
    "    # обучать модель можно также с помощью кросс-валидации\n",
    "    # применим  cross validation с тем же количеством фолдов\n",
    "    \n",
    "    # Без кросс-валидации модель переобучается\n",
    "    score = cross_val_score(model, X, y, cv=cv, scoring=\"f1\", n_jobs=-1).mean()\n",
    "\n",
    "    # метрику необходимо минимизировать, поэтому ставим знак минус\n",
    "    return -score"
   ]
  },
  {
   "cell_type": "code",
   "execution_count": 46,
   "metadata": {},
   "outputs": [
    {
     "name": "stdout",
     "output_type": "stream",
     "text": [
      "100%|██████████| 20/20 [01:07<00:00,  3.39s/trial, best loss: -0.8181415303558588]\n",
      "Наилучшие значения гиперпараметров {'max_depth': 30.0, 'min_samples_leaf': 2.0, 'n_estimators': 130.0}\n"
     ]
    }
   ],
   "source": [
    "# начинаем подбор гиперпараметров\n",
    "\n",
    "trials = Trials() # используется для логирования результатов\n",
    "\n",
    "best=fmin(hyperopt_rf, # наша функция \n",
    "          space=space, # пространство гиперпараметров\n",
    "          algo=tpe.suggest, # алгоритм оптимизации, установлен по умолчанию, задавать необязательно\n",
    "          max_evals=20, # максимальное количество итераций\n",
    "          trials=trials, # логирование результатов\n",
    "          rstate=np.random.default_rng(random_state)# фиксируем для повторяемости результата\n",
    "         )\n",
    "print(\"Наилучшие значения гиперпараметров {}\".format(best))"
   ]
  },
  {
   "cell_type": "code",
   "execution_count": 47,
   "metadata": {},
   "outputs": [
    {
     "name": "stdout",
     "output_type": "stream",
     "text": [
      "f1_score на тестовом наборе: 0.7965895249695493\n",
      "accuracy на тестовом наборе: 0.7776298268974701\n"
     ]
    }
   ],
   "source": [
    "model = ensemble.RandomForestClassifier(random_state=random_state, \n",
    "                                        n_estimators=int(best['n_estimators']),  \n",
    "                                        min_samples_leaf=int(best['min_samples_leaf']))\n",
    "model.fit(X_train, y_train)\n",
    "y_test_pred = model.predict(X_test)\n",
    "print('f1_score на тестовом наборе: {}'.format(metrics.f1_score(y_test, y_test_pred)))\n",
    "print('accuracy на тестовом наборе: {}'.format(metrics.accuracy_score(y_test, y_test_pred)))"
   ]
  },
  {
   "attachments": {},
   "cell_type": "markdown",
   "metadata": {},
   "source": [
    "### Optuna"
   ]
  },
  {
   "cell_type": "code",
   "execution_count": 85,
   "metadata": {},
   "outputs": [],
   "source": [
    "def optuna_rf(trial):\n",
    "  # задаем пространства поиска гиперпараметров\n",
    "  n_estimators = trial.suggest_int('n_estimators', 90, 180, 10)\n",
    "  max_depth = trial.suggest_int('max_depth', 15, 40, 1)\n",
    "  min_samples_leaf = trial.suggest_int('min_samples_leaf', 1, 5, 1)\n",
    "\n",
    "  # создаем модель\n",
    "  model = ensemble.RandomForestClassifier(n_estimators=n_estimators,\n",
    "                                          max_depth=max_depth,\n",
    "                                          min_samples_leaf=min_samples_leaf,\n",
    "                                          random_state=random_state)\n",
    "  # обучаем модель\n",
    "  #model.fit(X_train, y_train)\n",
    "  #score = metrics.f1_score(y_train, model.predict(X_train))\n",
    "\n",
    "  # Без кросс-валидации модель переобучается\n",
    "  score = cross_val_score(model, X_train, y_train, cv=5, scoring=\"f1\", n_jobs=-1).mean()\n",
    "  return score\n",
    "  "
   ]
  },
  {
   "cell_type": "code",
   "execution_count": 86,
   "metadata": {},
   "outputs": [
    {
     "name": "stderr",
     "output_type": "stream",
     "text": [
      "\u001b[32m[I 2023-04-17 12:50:33,614]\u001b[0m A new study created in memory with name: RandomForestClassifier\u001b[0m\n",
      "\u001b[32m[I 2023-04-17 12:50:37,975]\u001b[0m Trial 0 finished with value: 0.8095360556355915 and parameters: {'n_estimators': 120, 'max_depth': 35, 'min_samples_leaf': 3}. Best is trial 0 with value: 0.8095360556355915.\u001b[0m\n",
      "\u001b[32m[I 2023-04-17 12:50:42,141]\u001b[0m Trial 1 finished with value: 0.811651038841512 and parameters: {'n_estimators': 180, 'max_depth': 24, 'min_samples_leaf': 3}. Best is trial 1 with value: 0.811651038841512.\u001b[0m\n",
      "\u001b[32m[I 2023-04-17 12:50:46,187]\u001b[0m Trial 2 finished with value: 0.8116813946107635 and parameters: {'n_estimators': 180, 'max_depth': 29, 'min_samples_leaf': 4}. Best is trial 2 with value: 0.8116813946107635.\u001b[0m\n",
      "\u001b[32m[I 2023-04-17 12:50:49,979]\u001b[0m Trial 3 finished with value: 0.8140958029878858 and parameters: {'n_estimators': 140, 'max_depth': 36, 'min_samples_leaf': 1}. Best is trial 3 with value: 0.8140958029878858.\u001b[0m\n",
      "\u001b[32m[I 2023-04-17 12:50:53,046]\u001b[0m Trial 4 finished with value: 0.8096209605581792 and parameters: {'n_estimators': 130, 'max_depth': 32, 'min_samples_leaf': 3}. Best is trial 3 with value: 0.8140958029878858.\u001b[0m\n",
      "\u001b[32m[I 2023-04-17 12:50:56,163]\u001b[0m Trial 5 finished with value: 0.817648929592262 and parameters: {'n_estimators': 120, 'max_depth': 38, 'min_samples_leaf': 2}. Best is trial 5 with value: 0.817648929592262.\u001b[0m\n",
      "\u001b[32m[I 2023-04-17 12:51:00,095]\u001b[0m Trial 6 finished with value: 0.8124680685010135 and parameters: {'n_estimators': 150, 'max_depth': 28, 'min_samples_leaf': 1}. Best is trial 5 with value: 0.817648929592262.\u001b[0m\n",
      "\u001b[32m[I 2023-04-17 12:51:02,430]\u001b[0m Trial 7 finished with value: 0.8101440190618646 and parameters: {'n_estimators': 90, 'max_depth': 19, 'min_samples_leaf': 3}. Best is trial 5 with value: 0.817648929592262.\u001b[0m\n",
      "\u001b[32m[I 2023-04-17 12:51:04,491]\u001b[0m Trial 8 finished with value: 0.7995549941153453 and parameters: {'n_estimators': 90, 'max_depth': 25, 'min_samples_leaf': 5}. Best is trial 5 with value: 0.817648929592262.\u001b[0m\n",
      "\u001b[32m[I 2023-04-17 12:51:08,463]\u001b[0m Trial 9 finished with value: 0.8116813946107635 and parameters: {'n_estimators': 180, 'max_depth': 34, 'min_samples_leaf': 4}. Best is trial 5 with value: 0.817648929592262.\u001b[0m\n",
      "\u001b[32m[I 2023-04-17 12:51:11,362]\u001b[0m Trial 10 finished with value: 0.8148063327191905 and parameters: {'n_estimators': 110, 'max_depth': 40, 'min_samples_leaf': 2}. Best is trial 5 with value: 0.817648929592262.\u001b[0m\n",
      "\u001b[32m[I 2023-04-17 12:51:14,297]\u001b[0m Trial 11 finished with value: 0.8148063327191905 and parameters: {'n_estimators': 110, 'max_depth': 40, 'min_samples_leaf': 2}. Best is trial 5 with value: 0.817648929592262.\u001b[0m\n",
      "\u001b[32m[I 2023-04-17 12:51:17,197]\u001b[0m Trial 12 finished with value: 0.8148063327191905 and parameters: {'n_estimators': 110, 'max_depth': 40, 'min_samples_leaf': 2}. Best is trial 5 with value: 0.817648929592262.\u001b[0m\n",
      "\u001b[32m[I 2023-04-17 12:51:20,112]\u001b[0m Trial 13 finished with value: 0.8148063327191905 and parameters: {'n_estimators': 110, 'max_depth': 40, 'min_samples_leaf': 2}. Best is trial 5 with value: 0.817648929592262.\u001b[0m\n",
      "\u001b[32m[I 2023-04-17 12:51:23,645]\u001b[0m Trial 14 finished with value: 0.8185276610301819 and parameters: {'n_estimators': 150, 'max_depth': 16, 'min_samples_leaf': 2}. Best is trial 14 with value: 0.8185276610301819.\u001b[0m\n",
      "\u001b[32m[I 2023-04-17 12:51:27,569]\u001b[0m Trial 15 finished with value: 0.8169467234675138 and parameters: {'n_estimators': 160, 'max_depth': 16, 'min_samples_leaf': 1}. Best is trial 14 with value: 0.8185276610301819.\u001b[0m\n",
      "\u001b[32m[I 2023-04-17 12:51:31,533]\u001b[0m Trial 16 finished with value: 0.8146474751193958 and parameters: {'n_estimators': 160, 'max_depth': 21, 'min_samples_leaf': 2}. Best is trial 14 with value: 0.8185276610301819.\u001b[0m\n",
      "\u001b[32m[I 2023-04-17 12:51:34,662]\u001b[0m Trial 17 finished with value: 0.8111923902061238 and parameters: {'n_estimators': 140, 'max_depth': 16, 'min_samples_leaf': 4}. Best is trial 14 with value: 0.8185276610301819.\u001b[0m\n",
      "\u001b[32m[I 2023-04-17 12:51:38,141]\u001b[0m Trial 18 finished with value: 0.8152289207132247 and parameters: {'n_estimators': 130, 'max_depth': 31, 'min_samples_leaf': 1}. Best is trial 14 with value: 0.8185276610301819.\u001b[0m\n",
      "\u001b[32m[I 2023-04-17 12:51:42,189]\u001b[0m Trial 19 finished with value: 0.8150964822847765 and parameters: {'n_estimators': 160, 'max_depth': 24, 'min_samples_leaf': 2}. Best is trial 14 with value: 0.8185276610301819.\u001b[0m\n"
     ]
    }
   ],
   "source": [
    "# cоздаем объект исследования\n",
    "# можем напрямую указать, что нам необходимо максимизировать метрику direction=\"maximize\"\n",
    "study = optuna.create_study(study_name=\"RandomForestClassifier\", direction=\"maximize\")\n",
    "# ищем лучшую комбинацию гиперпараметров n_trials раз\n",
    "study.optimize(optuna_rf, n_trials=20)"
   ]
  },
  {
   "cell_type": "code",
   "execution_count": 88,
   "metadata": {},
   "outputs": [
    {
     "name": "stdout",
     "output_type": "stream",
     "text": [
      "Наилучшие значения гиперпараметров {'n_estimators': 150, 'max_depth': 16, 'min_samples_leaf': 2}\n",
      "f1_score на обучающем наборе: 0.8185276610301819\n",
      "f1_score на тестовом наборе: 0.8038740920096853\n"
     ]
    }
   ],
   "source": [
    "# выводим результаты на обучающей выборке\n",
    "print(\"Наилучшие значения гиперпараметров {}\".format(study.best_params))\n",
    "print(\"f1_score на обучающем наборе: {}\".format(study.best_value))\n",
    "best=study.best_params\n",
    "# рассчитаем точность для тестовой выборки\n",
    "model = ensemble.RandomForestClassifier(random_state=random_state, \n",
    "                                        n_estimators=int(best['n_estimators']),  \n",
    "                                        max_depth=int(best['max_depth']),\n",
    "                                        min_samples_leaf=int(best['min_samples_leaf']))\n",
    "model.fit(X_train, y_train)\n",
    "y_test_pred = model.predict(X_test)\n",
    "print('f1_score на тестовом наборе: {}'.format(metrics.f1_score(y_test, y_test_pred)))"
   ]
  }
 ],
 "metadata": {
  "kernelspec": {
   "display_name": "Python 3",
   "language": "python",
   "name": "python3"
  },
  "language_info": {
   "codemirror_mode": {
    "name": "ipython",
    "version": 3
   },
   "file_extension": ".py",
   "mimetype": "text/x-python",
   "name": "python",
   "nbconvert_exporter": "python",
   "pygments_lexer": "ipython3",
   "version": "3.9.10"
  },
  "orig_nbformat": 4
 },
 "nbformat": 4,
 "nbformat_minor": 2
}
